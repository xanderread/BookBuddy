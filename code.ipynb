{
  "cells": [
    {
      "cell_type": "markdown",
      "metadata": {
        "id": "MOMWCB3uf8Gq"
      },
      "source": [
        "## COMP3607 Recommender Systems Source Code (jjxc38)\n",
        "# 📚 <b> BookBuddy </b> : Book Recommender System\n",
        "\n",
        "\n",
        "- All Resources used are correctly referenced (IEEE) in the Video\n",
        "\n",
        "\\\\\n",
        "This jupyter notebook contains the source code for both the basic and advanced recommender systems I built\n",
        "  - My Basic Implementation uses SVD Matrix Factorization\n",
        "  - My Advanced Implementation uses a basic GNN (GraphSAGE)\n"
      ]
    },
    {
      "cell_type": "markdown",
      "metadata": {
        "id": "vCMigLURkf4f"
      },
      "source": [
        "# **Installs & Imports** ⚙️\n",
        "\n",
        "- I used the suprise module for a built-in implementation of an SVD algorithm \\\\\n",
        "- I used pytorch, torch-geometric, and the dgl modules to implement a GNN  \\\\\n",
        "- I used numpy, pandas, and matplot-lib to handle tensors, matrices and chart data"
      ]
    },
    {
      "cell_type": "code",
      "execution_count": null,
      "metadata": {
        "colab": {
          "base_uri": "https://localhost:8080/"
        },
        "id": "rM2lEYjYMWdr",
        "outputId": "f17d2eba-e21d-46c4-c376-73ddd2aa9271"
      },
      "outputs": [
        {
          "name": "stdout",
          "output_type": "stream",
          "text": [
            "Looking in links: https://data.dgl.ai/wheels/cu121/repo.html\n",
            "Collecting dgl\n",
            "  Downloading https://data.dgl.ai/wheels/cu121/dgl-1.1.3%2Bcu121-cp310-cp310-manylinux1_x86_64.whl (79.9 MB)\n",
            "\u001b[2K     \u001b[90m━━━━━━━━━━━━━━━━━━━━━━━━━━━━━━━━━━━━━━━━\u001b[0m \u001b[32m79.9/79.9 MB\u001b[0m \u001b[31m13.2 MB/s\u001b[0m eta \u001b[36m0:00:00\u001b[0m\n",
            "\u001b[?25hRequirement already satisfied: numpy>=1.14.0 in /usr/local/lib/python3.10/dist-packages (from dgl) (1.23.5)\n",
            "Requirement already satisfied: scipy>=1.1.0 in /usr/local/lib/python3.10/dist-packages (from dgl) (1.11.4)\n",
            "Requirement already satisfied: networkx>=2.1 in /usr/local/lib/python3.10/dist-packages (from dgl) (3.2.1)\n",
            "Requirement already satisfied: requests>=2.19.0 in /usr/local/lib/python3.10/dist-packages (from dgl) (2.31.0)\n",
            "Requirement already satisfied: tqdm in /usr/local/lib/python3.10/dist-packages (from dgl) (4.66.1)\n",
            "Requirement already satisfied: psutil>=5.8.0 in /usr/local/lib/python3.10/dist-packages (from dgl) (5.9.5)\n",
            "Requirement already satisfied: charset-normalizer<4,>=2 in /usr/local/lib/python3.10/dist-packages (from requests>=2.19.0->dgl) (3.3.2)\n",
            "Requirement already satisfied: idna<4,>=2.5 in /usr/local/lib/python3.10/dist-packages (from requests>=2.19.0->dgl) (3.6)\n",
            "Requirement already satisfied: urllib3<3,>=1.21.1 in /usr/local/lib/python3.10/dist-packages (from requests>=2.19.0->dgl) (2.0.7)\n",
            "Requirement already satisfied: certifi>=2017.4.17 in /usr/local/lib/python3.10/dist-packages (from requests>=2.19.0->dgl) (2023.11.17)\n",
            "Installing collected packages: dgl\n",
            "Successfully installed dgl-1.1.3+cu121\n",
            "Looking in links: https://data.dgl.ai/wheels-test/repo.html\n",
            "Collecting dglgo\n",
            "  Downloading dglgo-0.0.2-py3-none-any.whl (63 kB)\n",
            "\u001b[2K     \u001b[90m━━━━━━━━━━━━━━━━━━━━━━━━━━━━━━━━━━━━━━━━\u001b[0m \u001b[32m63.5/63.5 kB\u001b[0m \u001b[31m1.6 MB/s\u001b[0m eta \u001b[36m0:00:00\u001b[0m\n",
            "\u001b[?25hRequirement already satisfied: typer>=0.4.0 in /usr/local/lib/python3.10/dist-packages (from dglgo) (0.9.0)\n",
            "Collecting isort>=5.10.1 (from dglgo)\n",
            "  Downloading isort-5.13.2-py3-none-any.whl (92 kB)\n",
            "\u001b[2K     \u001b[90m━━━━━━━━━━━━━━━━━━━━━━━━━━━━━━━━━━━━━━━━\u001b[0m \u001b[32m92.3/92.3 kB\u001b[0m \u001b[31m5.0 MB/s\u001b[0m eta \u001b[36m0:00:00\u001b[0m\n",
            "\u001b[?25hCollecting autopep8>=1.6.0 (from dglgo)\n",
            "  Downloading autopep8-2.0.4-py2.py3-none-any.whl (45 kB)\n",
            "\u001b[2K     \u001b[90m━━━━━━━━━━━━━━━━━━━━━━━━━━━━━━━━━━━━━━━━\u001b[0m \u001b[32m45.3/45.3 kB\u001b[0m \u001b[31m5.6 MB/s\u001b[0m eta \u001b[36m0:00:00\u001b[0m\n",
            "\u001b[?25hCollecting numpydoc>=1.1.0 (from dglgo)\n",
            "  Downloading numpydoc-1.6.0-py3-none-any.whl (61 kB)\n",
            "\u001b[2K     \u001b[90m━━━━━━━━━━━━━━━━━━━━━━━━━━━━━━━━━━━━━━━━\u001b[0m \u001b[32m61.7/61.7 kB\u001b[0m \u001b[31m7.2 MB/s\u001b[0m eta \u001b[36m0:00:00\u001b[0m\n",
            "\u001b[?25hRequirement already satisfied: pydantic>=1.9.0 in /usr/local/lib/python3.10/dist-packages (from dglgo) (1.10.13)\n",
            "Collecting ruamel.yaml>=0.17.20 (from dglgo)\n",
            "  Downloading ruamel.yaml-0.18.5-py3-none-any.whl (116 kB)\n",
            "\u001b[2K     \u001b[90m━━━━━━━━━━━━━━━━━━━━━━━━━━━━━━━━━━━━━━━━\u001b[0m \u001b[32m116.4/116.4 kB\u001b[0m \u001b[31m14.5 MB/s\u001b[0m eta \u001b[36m0:00:00\u001b[0m\n",
            "\u001b[?25hRequirement already satisfied: PyYAML>=5.1 in /usr/local/lib/python3.10/dist-packages (from dglgo) (6.0.1)\n",
            "Collecting ogb>=1.3.3 (from dglgo)\n",
            "  Downloading ogb-1.3.6-py3-none-any.whl (78 kB)\n",
            "\u001b[2K     \u001b[90m━━━━━━━━━━━━━━━━━━━━━━━━━━━━━━━━━━━━━━━━\u001b[0m \u001b[32m78.8/78.8 kB\u001b[0m \u001b[31m10.5 MB/s\u001b[0m eta \u001b[36m0:00:00\u001b[0m\n",
            "\u001b[?25hCollecting rdkit-pypi (from dglgo)\n",
            "  Downloading rdkit_pypi-2022.9.5-cp310-cp310-manylinux_2_17_x86_64.manylinux2014_x86_64.whl (29.4 MB)\n",
            "\u001b[2K     \u001b[90m━━━━━━━━━━━━━━━━━━━━━━━━━━━━━━━━━━━━━━━━\u001b[0m \u001b[32m29.4/29.4 MB\u001b[0m \u001b[31m45.9 MB/s\u001b[0m eta \u001b[36m0:00:00\u001b[0m\n",
            "\u001b[?25hRequirement already satisfied: scikit-learn>=0.20.0 in /usr/local/lib/python3.10/dist-packages (from dglgo) (1.2.2)\n",
            "Collecting pycodestyle>=2.10.0 (from autopep8>=1.6.0->dglgo)\n",
            "  Downloading pycodestyle-2.11.1-py2.py3-none-any.whl (31 kB)\n",
            "Requirement already satisfied: tomli in /usr/local/lib/python3.10/dist-packages (from autopep8>=1.6.0->dglgo) (2.0.1)\n",
            "Requirement already satisfied: sphinx>=5 in /usr/local/lib/python3.10/dist-packages (from numpydoc>=1.1.0->dglgo) (5.0.2)\n",
            "Requirement already satisfied: Jinja2>=2.10 in /usr/local/lib/python3.10/dist-packages (from numpydoc>=1.1.0->dglgo) (3.1.2)\n",
            "Requirement already satisfied: tabulate>=0.8.10 in /usr/local/lib/python3.10/dist-packages (from numpydoc>=1.1.0->dglgo) (0.9.0)\n",
            "Requirement already satisfied: torch>=1.6.0 in /usr/local/lib/python3.10/dist-packages (from ogb>=1.3.3->dglgo) (2.1.0+cu121)\n",
            "Requirement already satisfied: numpy>=1.16.0 in /usr/local/lib/python3.10/dist-packages (from ogb>=1.3.3->dglgo) (1.23.5)\n",
            "Requirement already satisfied: tqdm>=4.29.0 in /usr/local/lib/python3.10/dist-packages (from ogb>=1.3.3->dglgo) (4.66.1)\n",
            "Requirement already satisfied: pandas>=0.24.0 in /usr/local/lib/python3.10/dist-packages (from ogb>=1.3.3->dglgo) (1.5.3)\n",
            "Requirement already satisfied: six>=1.12.0 in /usr/local/lib/python3.10/dist-packages (from ogb>=1.3.3->dglgo) (1.16.0)\n",
            "Requirement already satisfied: urllib3>=1.24.0 in /usr/local/lib/python3.10/dist-packages (from ogb>=1.3.3->dglgo) (2.0.7)\n",
            "Collecting outdated>=0.2.0 (from ogb>=1.3.3->dglgo)\n",
            "  Downloading outdated-0.2.2-py2.py3-none-any.whl (7.5 kB)\n",
            "Requirement already satisfied: typing-extensions>=4.2.0 in /usr/local/lib/python3.10/dist-packages (from pydantic>=1.9.0->dglgo) (4.5.0)\n",
            "Collecting ruamel.yaml.clib>=0.2.7 (from ruamel.yaml>=0.17.20->dglgo)\n",
            "  Downloading ruamel.yaml.clib-0.2.8-cp310-cp310-manylinux_2_17_x86_64.manylinux2014_x86_64.manylinux_2_24_x86_64.whl (526 kB)\n",
            "\u001b[2K     \u001b[90m━━━━━━━━━━━━━━━━━━━━━━━━━━━━━━━━━━━━━━━━\u001b[0m \u001b[32m526.7/526.7 kB\u001b[0m \u001b[31m51.3 MB/s\u001b[0m eta \u001b[36m0:00:00\u001b[0m\n",
            "\u001b[?25hRequirement already satisfied: scipy>=1.3.2 in /usr/local/lib/python3.10/dist-packages (from scikit-learn>=0.20.0->dglgo) (1.11.4)\n",
            "Requirement already satisfied: joblib>=1.1.1 in /usr/local/lib/python3.10/dist-packages (from scikit-learn>=0.20.0->dglgo) (1.3.2)\n",
            "Requirement already satisfied: threadpoolctl>=2.0.0 in /usr/local/lib/python3.10/dist-packages (from scikit-learn>=0.20.0->dglgo) (3.2.0)\n",
            "Requirement already satisfied: click<9.0.0,>=7.1.1 in /usr/local/lib/python3.10/dist-packages (from typer>=0.4.0->dglgo) (8.1.7)\n",
            "Requirement already satisfied: Pillow in /usr/local/lib/python3.10/dist-packages (from rdkit-pypi->dglgo) (9.4.0)\n",
            "Requirement already satisfied: MarkupSafe>=2.0 in /usr/local/lib/python3.10/dist-packages (from Jinja2>=2.10->numpydoc>=1.1.0->dglgo) (2.1.3)\n",
            "Requirement already satisfied: setuptools>=44 in /usr/local/lib/python3.10/dist-packages (from outdated>=0.2.0->ogb>=1.3.3->dglgo) (67.7.2)\n",
            "Collecting littleutils (from outdated>=0.2.0->ogb>=1.3.3->dglgo)\n",
            "  Downloading littleutils-0.2.2.tar.gz (6.6 kB)\n",
            "  Preparing metadata (setup.py) ... \u001b[?25l\u001b[?25hdone\n",
            "Requirement already satisfied: requests in /usr/local/lib/python3.10/dist-packages (from outdated>=0.2.0->ogb>=1.3.3->dglgo) (2.31.0)\n",
            "Requirement already satisfied: python-dateutil>=2.8.1 in /usr/local/lib/python3.10/dist-packages (from pandas>=0.24.0->ogb>=1.3.3->dglgo) (2.8.2)\n",
            "Requirement already satisfied: pytz>=2020.1 in /usr/local/lib/python3.10/dist-packages (from pandas>=0.24.0->ogb>=1.3.3->dglgo) (2023.3.post1)\n",
            "Requirement already satisfied: sphinxcontrib-applehelp in /usr/local/lib/python3.10/dist-packages (from sphinx>=5->numpydoc>=1.1.0->dglgo) (1.0.7)\n",
            "Requirement already satisfied: sphinxcontrib-devhelp in /usr/local/lib/python3.10/dist-packages (from sphinx>=5->numpydoc>=1.1.0->dglgo) (1.0.5)\n",
            "Requirement already satisfied: sphinxcontrib-jsmath in /usr/local/lib/python3.10/dist-packages (from sphinx>=5->numpydoc>=1.1.0->dglgo) (1.0.1)\n",
            "Requirement already satisfied: sphinxcontrib-htmlhelp>=2.0.0 in /usr/local/lib/python3.10/dist-packages (from sphinx>=5->numpydoc>=1.1.0->dglgo) (2.0.4)\n",
            "Requirement already satisfied: sphinxcontrib-serializinghtml>=1.1.5 in /usr/local/lib/python3.10/dist-packages (from sphinx>=5->numpydoc>=1.1.0->dglgo) (1.1.9)\n",
            "Requirement already satisfied: sphinxcontrib-qthelp in /usr/local/lib/python3.10/dist-packages (from sphinx>=5->numpydoc>=1.1.0->dglgo) (1.0.6)\n",
            "Requirement already satisfied: Pygments>=2.0 in /usr/local/lib/python3.10/dist-packages (from sphinx>=5->numpydoc>=1.1.0->dglgo) (2.16.1)\n",
            "Requirement already satisfied: docutils<0.19,>=0.14 in /usr/local/lib/python3.10/dist-packages (from sphinx>=5->numpydoc>=1.1.0->dglgo) (0.18.1)\n",
            "Requirement already satisfied: snowballstemmer>=1.1 in /usr/local/lib/python3.10/dist-packages (from sphinx>=5->numpydoc>=1.1.0->dglgo) (2.2.0)\n",
            "Requirement already satisfied: babel>=1.3 in /usr/local/lib/python3.10/dist-packages (from sphinx>=5->numpydoc>=1.1.0->dglgo) (2.14.0)\n",
            "Requirement already satisfied: alabaster<0.8,>=0.7 in /usr/local/lib/python3.10/dist-packages (from sphinx>=5->numpydoc>=1.1.0->dglgo) (0.7.13)\n",
            "Requirement already satisfied: imagesize in /usr/local/lib/python3.10/dist-packages (from sphinx>=5->numpydoc>=1.1.0->dglgo) (1.4.1)\n",
            "Requirement already satisfied: packaging in /usr/local/lib/python3.10/dist-packages (from sphinx>=5->numpydoc>=1.1.0->dglgo) (23.2)\n",
            "Requirement already satisfied: filelock in /usr/local/lib/python3.10/dist-packages (from torch>=1.6.0->ogb>=1.3.3->dglgo) (3.13.1)\n",
            "Requirement already satisfied: sympy in /usr/local/lib/python3.10/dist-packages (from torch>=1.6.0->ogb>=1.3.3->dglgo) (1.12)\n",
            "Requirement already satisfied: networkx in /usr/local/lib/python3.10/dist-packages (from torch>=1.6.0->ogb>=1.3.3->dglgo) (3.2.1)\n",
            "Requirement already satisfied: fsspec in /usr/local/lib/python3.10/dist-packages (from torch>=1.6.0->ogb>=1.3.3->dglgo) (2023.6.0)\n",
            "Requirement already satisfied: triton==2.1.0 in /usr/local/lib/python3.10/dist-packages (from torch>=1.6.0->ogb>=1.3.3->dglgo) (2.1.0)\n",
            "Requirement already satisfied: charset-normalizer<4,>=2 in /usr/local/lib/python3.10/dist-packages (from requests->outdated>=0.2.0->ogb>=1.3.3->dglgo) (3.3.2)\n",
            "Requirement already satisfied: idna<4,>=2.5 in /usr/local/lib/python3.10/dist-packages (from requests->outdated>=0.2.0->ogb>=1.3.3->dglgo) (3.6)\n",
            "Requirement already satisfied: certifi>=2017.4.17 in /usr/local/lib/python3.10/dist-packages (from requests->outdated>=0.2.0->ogb>=1.3.3->dglgo) (2023.11.17)\n",
            "Requirement already satisfied: mpmath>=0.19 in /usr/local/lib/python3.10/dist-packages (from sympy->torch>=1.6.0->ogb>=1.3.3->dglgo) (1.3.0)\n",
            "Building wheels for collected packages: littleutils\n",
            "  Building wheel for littleutils (setup.py) ... \u001b[?25l\u001b[?25hdone\n",
            "  Created wheel for littleutils: filename=littleutils-0.2.2-py3-none-any.whl size=7026 sha256=a460dbcc059b20eaee3086ec35e37e51b469b46605089134f431b180acb2957b\n",
            "  Stored in directory: /root/.cache/pip/wheels/3d/fe/b0/27a9892da57472e538c7452a721a9cf463cc03cf7379889266\n",
            "Successfully built littleutils\n",
            "Installing collected packages: littleutils, ruamel.yaml.clib, rdkit-pypi, pycodestyle, isort, ruamel.yaml, outdated, autopep8, ogb, numpydoc, dglgo\n",
            "Successfully installed autopep8-2.0.4 dglgo-0.0.2 isort-5.13.2 littleutils-0.2.2 numpydoc-1.6.0 ogb-1.3.6 outdated-0.2.2 pycodestyle-2.11.1 rdkit-pypi-2022.9.5 ruamel.yaml-0.18.5 ruamel.yaml.clib-0.2.8\n",
            "Collecting scikit-surprise\n",
            "  Downloading scikit-surprise-1.1.3.tar.gz (771 kB)\n",
            "\u001b[2K     \u001b[90m━━━━━━━━━━━━━━━━━━━━━━━━━━━━━━━━━━━━━━━━\u001b[0m \u001b[32m772.0/772.0 kB\u001b[0m \u001b[31m10.8 MB/s\u001b[0m eta \u001b[36m0:00:00\u001b[0m\n",
            "\u001b[?25h  Preparing metadata (setup.py) ... \u001b[?25l\u001b[?25hdone\n",
            "Requirement already satisfied: joblib>=1.0.0 in /usr/local/lib/python3.10/dist-packages (from scikit-surprise) (1.3.2)\n",
            "Requirement already satisfied: numpy>=1.17.3 in /usr/local/lib/python3.10/dist-packages (from scikit-surprise) (1.23.5)\n",
            "Requirement already satisfied: scipy>=1.3.2 in /usr/local/lib/python3.10/dist-packages (from scikit-surprise) (1.11.4)\n",
            "Building wheels for collected packages: scikit-surprise\n",
            "  Building wheel for scikit-surprise (setup.py) ... \u001b[?25l\u001b[?25hdone\n",
            "  Created wheel for scikit-surprise: filename=scikit_surprise-1.1.3-cp310-cp310-linux_x86_64.whl size=3163769 sha256=feb684986592929c4cbe099ac6ee9f451f7bb4a34448541ba47d0f4a7edb0279\n",
            "  Stored in directory: /root/.cache/pip/wheels/a5/ca/a8/4e28def53797fdc4363ca4af740db15a9c2f1595ebc51fb445\n",
            "Successfully built scikit-surprise\n",
            "Installing collected packages: scikit-surprise\n",
            "Successfully installed scikit-surprise-1.1.3\n",
            "Requirement already satisfied: torch in /usr/local/lib/python3.10/dist-packages (2.1.0+cu121)\n",
            "Requirement already satisfied: filelock in /usr/local/lib/python3.10/dist-packages (from torch) (3.13.1)\n",
            "Requirement already satisfied: typing-extensions in /usr/local/lib/python3.10/dist-packages (from torch) (4.5.0)\n",
            "Requirement already satisfied: sympy in /usr/local/lib/python3.10/dist-packages (from torch) (1.12)\n",
            "Requirement already satisfied: networkx in /usr/local/lib/python3.10/dist-packages (from torch) (3.2.1)\n",
            "Requirement already satisfied: jinja2 in /usr/local/lib/python3.10/dist-packages (from torch) (3.1.2)\n",
            "Requirement already satisfied: fsspec in /usr/local/lib/python3.10/dist-packages (from torch) (2023.6.0)\n",
            "Requirement already satisfied: triton==2.1.0 in /usr/local/lib/python3.10/dist-packages (from torch) (2.1.0)\n",
            "Requirement already satisfied: MarkupSafe>=2.0 in /usr/local/lib/python3.10/dist-packages (from jinja2->torch) (2.1.3)\n",
            "Requirement already satisfied: mpmath>=0.19 in /usr/local/lib/python3.10/dist-packages (from sympy->torch) (1.3.0)\n",
            "Collecting torch-geometric\n",
            "  Downloading torch_geometric-2.4.0-py3-none-any.whl (1.0 MB)\n",
            "\u001b[2K     \u001b[90m━━━━━━━━━━━━━━━━━━━━━━━━━━━━━━━━━━━━━━━━\u001b[0m \u001b[32m1.0/1.0 MB\u001b[0m \u001b[31m12.5 MB/s\u001b[0m eta \u001b[36m0:00:00\u001b[0m\n",
            "\u001b[?25hRequirement already satisfied: tqdm in /usr/local/lib/python3.10/dist-packages (from torch-geometric) (4.66.1)\n",
            "Requirement already satisfied: numpy in /usr/local/lib/python3.10/dist-packages (from torch-geometric) (1.23.5)\n",
            "Requirement already satisfied: scipy in /usr/local/lib/python3.10/dist-packages (from torch-geometric) (1.11.4)\n",
            "Requirement already satisfied: jinja2 in /usr/local/lib/python3.10/dist-packages (from torch-geometric) (3.1.2)\n",
            "Requirement already satisfied: requests in /usr/local/lib/python3.10/dist-packages (from torch-geometric) (2.31.0)\n",
            "Requirement already satisfied: pyparsing in /usr/local/lib/python3.10/dist-packages (from torch-geometric) (3.1.1)\n",
            "Requirement already satisfied: scikit-learn in /usr/local/lib/python3.10/dist-packages (from torch-geometric) (1.2.2)\n",
            "Requirement already satisfied: psutil>=5.8.0 in /usr/local/lib/python3.10/dist-packages (from torch-geometric) (5.9.5)\n",
            "Requirement already satisfied: MarkupSafe>=2.0 in /usr/local/lib/python3.10/dist-packages (from jinja2->torch-geometric) (2.1.3)\n",
            "Requirement already satisfied: charset-normalizer<4,>=2 in /usr/local/lib/python3.10/dist-packages (from requests->torch-geometric) (3.3.2)\n",
            "Requirement already satisfied: idna<4,>=2.5 in /usr/local/lib/python3.10/dist-packages (from requests->torch-geometric) (3.6)\n",
            "Requirement already satisfied: urllib3<3,>=1.21.1 in /usr/local/lib/python3.10/dist-packages (from requests->torch-geometric) (2.0.7)\n",
            "Requirement already satisfied: certifi>=2017.4.17 in /usr/local/lib/python3.10/dist-packages (from requests->torch-geometric) (2023.11.17)\n",
            "Requirement already satisfied: joblib>=1.1.1 in /usr/local/lib/python3.10/dist-packages (from scikit-learn->torch-geometric) (1.3.2)\n",
            "Requirement already satisfied: threadpoolctl>=2.0.0 in /usr/local/lib/python3.10/dist-packages (from scikit-learn->torch-geometric) (3.2.0)\n",
            "Installing collected packages: torch-geometric\n",
            "Successfully installed torch-geometric-2.4.0\n",
            "Requirement already satisfied: openpyxl in /usr/local/lib/python3.10/dist-packages (3.1.2)\n",
            "Requirement already satisfied: et-xmlfile in /usr/local/lib/python3.10/dist-packages (from openpyxl) (1.1.0)\n",
            "\u001b[33mWARNING: Skipping torch-scatter as it is not installed.\u001b[0m\u001b[33m\n",
            "\u001b[0m\u001b[33mWARNING: Skipping torch-sparse as it is not installed.\u001b[0m\u001b[33m\n",
            "\u001b[0mFound existing installation: torch_geometric 2.4.0\n",
            "Uninstalling torch_geometric-2.4.0:\n",
            "  Successfully uninstalled torch_geometric-2.4.0\n",
            "\u001b[33mWARNING: Skipping torch-cluster as it is not installed.\u001b[0m\u001b[33m\n",
            "\u001b[0mLooking in links: https://data.pyg.org/whl/torch-{torch.__version__}.html\n",
            "Collecting torch-scatter\n",
            "  Downloading torch_scatter-2.1.2.tar.gz (108 kB)\n",
            "\u001b[2K     \u001b[90m━━━━━━━━━━━━━━━━━━━━━━━━━━━━━━━━━━━━━━━━\u001b[0m \u001b[32m108.0/108.0 kB\u001b[0m \u001b[31m2.4 MB/s\u001b[0m eta \u001b[36m0:00:00\u001b[0m\n",
            "\u001b[?25h  Preparing metadata (setup.py) ... \u001b[?25l\u001b[?25hdone\n",
            "Building wheels for collected packages: torch-scatter\n",
            "  Building wheel for torch-scatter (setup.py) ... \u001b[?25l\u001b[?25hdone\n",
            "  Created wheel for torch-scatter: filename=torch_scatter-2.1.2-cp310-cp310-linux_x86_64.whl size=3571328 sha256=359d27a754641be82279aa34bb10782dcb5c29bb4017738746ce7a1ca6f2eac9\n",
            "  Stored in directory: /root/.cache/pip/wheels/92/f1/2b/3b46d54b134259f58c8363568569053248040859b1a145b3ce\n",
            "Successfully built torch-scatter\n",
            "Installing collected packages: torch-scatter\n",
            "Successfully installed torch-scatter-2.1.2\n",
            "Looking in links: https://data.pyg.org/whl/torch-{torch.__version__}.html\n",
            "Collecting torch-sparse\n",
            "  Downloading torch_sparse-0.6.18.tar.gz (209 kB)\n",
            "\u001b[2K     \u001b[90m━━━━━━━━━━━━━━━━━━━━━━━━━━━━━━━━━━━━━━━━\u001b[0m \u001b[32m210.0/210.0 kB\u001b[0m \u001b[31m4.1 MB/s\u001b[0m eta \u001b[36m0:00:00\u001b[0m\n",
            "\u001b[?25h  Preparing metadata (setup.py) ... \u001b[?25l\u001b[?25hdone\n",
            "Requirement already satisfied: scipy in /usr/local/lib/python3.10/dist-packages (from torch-sparse) (1.11.4)\n",
            "Requirement already satisfied: numpy<1.28.0,>=1.21.6 in /usr/local/lib/python3.10/dist-packages (from scipy->torch-sparse) (1.23.5)\n",
            "Building wheels for collected packages: torch-sparse\n",
            "  Building wheel for torch-sparse (setup.py) ... \u001b[?25l\u001b[?25hcanceled\u001b[31mERROR: Operation cancelled by user\u001b[0m\u001b[31m\n",
            "\u001b[0mLooking in links: https://data.pyg.org/whl/torch-{torch.__version__}.html\n",
            "Collecting torch-cluster\n",
            "  Downloading torch_cluster-1.6.3.tar.gz (54 kB)\n",
            "\u001b[2K     \u001b[90m━━━━━━━━━━━━━━━━━━━━━━━━━━━━━━━━━━━━━━━━\u001b[0m \u001b[32m54.5/54.5 kB\u001b[0m \u001b[31m1.6 MB/s\u001b[0m eta \u001b[36m0:00:00\u001b[0m\n",
            "\u001b[?25h  Preparing metadata (setup.py) ... \u001b[?25l\u001b[?25hdone\n",
            "Requirement already satisfied: scipy in /usr/local/lib/python3.10/dist-packages (from torch-cluster) (1.11.4)\n",
            "Requirement already satisfied: numpy<1.28.0,>=1.21.6 in /usr/local/lib/python3.10/dist-packages (from scipy->torch-cluster) (1.23.5)\n",
            "Building wheels for collected packages: torch-cluster\n",
            "\u001b[31mERROR: Operation cancelled by user\u001b[0m\u001b[31m\n",
            "\u001b[0m  Building wheel for torch-cluster (setup.py) ... \u001b[?25l\u001b[?25hCollecting git+https://github.com/pyg-team/pytorch_geometric.git\n",
            "  Cloning https://github.com/pyg-team/pytorch_geometric.git to /tmp/pip-req-build-4ksy6q08\n",
            "  Running command git clone --filter=blob:none --quiet https://github.com/pyg-team/pytorch_geometric.git /tmp/pip-req-build-4ksy6q08\n",
            "  Resolved https://github.com/pyg-team/pytorch_geometric.git to commit 0e526ab546b135dd8d5fbd55174d74da1e4028be\n",
            "  Installing build dependencies ... \u001b[?25l\u001b[?25hdone\n",
            "  Getting requirements to build wheel ... \u001b[?25l\u001b[?25hdone\n",
            "  Preparing metadata (pyproject.toml) ... \u001b[?25l\u001b[?25hdone\n",
            "Requirement already satisfied: tqdm in /usr/local/lib/python3.10/dist-packages (from torch_geometric==2.4.0) (4.66.1)\n",
            "Requirement already satisfied: numpy in /usr/local/lib/python3.10/dist-packages (from torch_geometric==2.4.0) (1.23.5)\n",
            "Requirement already satisfied: scipy in /usr/local/lib/python3.10/dist-packages (from torch_geometric==2.4.0) (1.11.4)\n",
            "Requirement already satisfied: fsspec in /usr/local/lib/python3.10/dist-packages (from torch_geometric==2.4.0) (2023.6.0)\n",
            "Requirement already satisfied: jinja2 in /usr/local/lib/python3.10/dist-packages (from torch_geometric==2.4.0) (3.1.2)\n",
            "Requirement already satisfied: aiohttp in /usr/local/lib/python3.10/dist-packages (from torch_geometric==2.4.0) (3.9.1)\n",
            "Requirement already satisfied: requests in /usr/local/lib/python3.10/dist-packages (from torch_geometric==2.4.0) (2.31.0)\n",
            "Requirement already satisfied: pyparsing in /usr/local/lib/python3.10/dist-packages (from torch_geometric==2.4.0) (3.1.1)\n",
            "Requirement already satisfied: scikit-learn in /usr/local/lib/python3.10/dist-packages (from torch_geometric==2.4.0) (1.2.2)\n",
            "Requirement already satisfied: psutil>=5.8.0 in /usr/local/lib/python3.10/dist-packages (from torch_geometric==2.4.0) (5.9.5)\n",
            "Requirement already satisfied: attrs>=17.3.0 in /usr/local/lib/python3.10/dist-packages (from aiohttp->torch_geometric==2.4.0) (23.1.0)\n",
            "Requirement already satisfied: multidict<7.0,>=4.5 in /usr/local/lib/python3.10/dist-packages (from aiohttp->torch_geometric==2.4.0) (6.0.4)\n",
            "Requirement already satisfied: yarl<2.0,>=1.0 in /usr/local/lib/python3.10/dist-packages (from aiohttp->torch_geometric==2.4.0) (1.9.4)\n",
            "Requirement already satisfied: frozenlist>=1.1.1 in /usr/local/lib/python3.10/dist-packages (from aiohttp->torch_geometric==2.4.0) (1.4.1)\n",
            "Requirement already satisfied: aiosignal>=1.1.2 in /usr/local/lib/python3.10/dist-packages (from aiohttp->torch_geometric==2.4.0) (1.3.1)\n",
            "Requirement already satisfied: async-timeout<5.0,>=4.0 in /usr/local/lib/python3.10/dist-packages (from aiohttp->torch_geometric==2.4.0) (4.0.3)\n",
            "Requirement already satisfied: MarkupSafe>=2.0 in /usr/local/lib/python3.10/dist-packages (from jinja2->torch_geometric==2.4.0) (2.1.3)\n",
            "Requirement already satisfied: charset-normalizer<4,>=2 in /usr/local/lib/python3.10/dist-packages (from requests->torch_geometric==2.4.0) (3.3.2)\n",
            "Requirement already satisfied: idna<4,>=2.5 in /usr/local/lib/python3.10/dist-packages (from requests->torch_geometric==2.4.0) (3.6)\n",
            "Requirement already satisfied: urllib3<3,>=1.21.1 in /usr/local/lib/python3.10/dist-packages (from requests->torch_geometric==2.4.0) (2.0.7)\n",
            "Requirement already satisfied: certifi>=2017.4.17 in /usr/local/lib/python3.10/dist-packages (from requests->torch_geometric==2.4.0) (2023.11.17)\n",
            "Requirement already satisfied: joblib>=1.1.1 in /usr/local/lib/python3.10/dist-packages (from scikit-learn->torch_geometric==2.4.0) (1.3.2)\n",
            "Requirement already satisfied: threadpoolctl>=2.0.0 in /usr/local/lib/python3.10/dist-packages (from scikit-learn->torch_geometric==2.4.0) (3.2.0)\n",
            "Building wheels for collected packages: torch_geometric\n",
            "  Building wheel for torch_geometric (pyproject.toml) ... \u001b[?25l\u001b[?25hdone\n",
            "  Created wheel for torch_geometric: filename=torch_geometric-2.4.0-py3-none-any.whl size=1089899 sha256=f1b9d27f6fe37648562d50c2f802b07aa084566e63f13840eac14791ac6434ec\n",
            "  Stored in directory: /tmp/pip-ephem-wheel-cache-r28ceomk/wheels/d3/78/eb/9e26525b948d19533f1688fb6c209cec8a0ba793d39b49ae8f\n",
            "Successfully built torch_geometric\n",
            "Installing collected packages: torch_geometric\n",
            "Successfully installed torch_geometric-2.4.0\n"
          ]
        }
      ],
      "source": [
        "# installs\n",
        "!pip install  dgl -f https://data.dgl.ai/wheels/cu121/repo.html\n",
        "!pip install  dglgo -f https://data.dgl.ai/wheels-test/repo.html\n",
        "!pip install scikit-surprise\n",
        "!pip install torch\n",
        "!pip install torch-geometric\n",
        "!pip install openpyxl\n",
        "\n",
        "!pip uninstall torch-scatter torch-sparse torch-geometric torch-cluster  --y\n",
        "!pip install torch-scatter -f https://data.pyg.org/whl/torch-{torch.__version__}.html\n",
        "!pip install torch-sparse -f https://data.pyg.org/whl/torch-{torch.__version__}.html\n",
        "!pip install torch-cluster -f https://data.pyg.org/whl/torch-{torch.__version__}.html\n",
        "!pip install git+https://github.com/pyg-team/pytorch_geometric.git"
      ]
    },
    {
      "cell_type": "code",
      "execution_count": null,
      "metadata": {
        "id": "iyPHKYEnegPV"
      },
      "outputs": [],
      "source": [
        "# Standard library imports\n",
        "import os\n",
        "import re\n",
        "import random\n",
        "import time\n",
        "import math\n",
        "\n",
        "# Third-party imports for data handling and processing\n",
        "import openpyxl\n",
        "import pandas as pd\n",
        "import numpy as np\n",
        "import requests\n",
        "from sklearn.model_selection import train_test_split\n",
        "from sklearn import model_selection, metrics, preprocessing\n",
        "\n",
        "# Visualization library\n",
        "import matplotlib.pyplot as plt\n",
        "\n",
        "# Machine learning and deep learning frameworks\n",
        "import dgl\n",
        "from dgl.nn import SAGEConv\n",
        "\n",
        "\n",
        "import dgl.function as fn\n",
        "from surprise import SVD, accuracy, Reader, Dataset\n",
        "from surprise.model_selection import PredefinedKFold, KFold\n",
        "from surprise.model_selection import train_test_split\n",
        "from torch import nn, optim, Tensor\n",
        "import torch\n",
        "from torch_geometric.utils import degree, structured_negative_sampling\n",
        "from torch_geometric.data import download_url, extract_zip\n",
        "from torch_geometric.nn.conv import MessagePassing, gcn_conv\n",
        "from torch_geometric.typing import Adj\n",
        "from torch_geometric.nn.conv.gcn_conv import gcn_norm\n",
        "import dgl\n",
        "import torch\n",
        "import torch.nn as nn\n",
        "import torch.nn.functional as F\n",
        "import itertools\n",
        "import numpy as np\n",
        "import scipy.sparse as sp\n",
        "\n",
        "\n",
        "# Utility for progress bars\n",
        "from tqdm.notebook import tqdm"
      ]
    },
    {
      "cell_type": "code",
      "execution_count": null,
      "metadata": {
        "id": "4VkJgGB4Acxm"
      },
      "outputs": [],
      "source": [
        "import warnings\n",
        "warnings.filterwarnings('ignore')"
      ]
    },
    {
      "cell_type": "markdown",
      "metadata": {
        "id": "vM7nj3fyhKPt"
      },
      "source": [
        "# **General Data Preparation** 🛠️\n",
        "- Used for both implementations\n",
        "- <b>Key Steps</b>:\n",
        " - Convert the 'age' and 'year' columns to Integers & replace incorrect values with NaN in the users and books dataframes.\n",
        "\n",
        "  - Drop Rows with NaN: Remove rows with NaN in 'age', 'year', and across all dataframes.\n",
        "\n",
        "  - Filter Users and Books Based on Ratings: Keep only users and books that are present in ratings dataframe.\n",
        "\n",
        "  - Filter Ratings for Existing Users and Books: Remove ratings with missing user IDs or book IDs.\n",
        "\n",
        "  - Create Mappings for 'user_id' and 'book_id': Assign new sequential IDs to users and books.\n",
        "\n",
        "  - Apply ID Mappings: Update 'user_id' and 'book_id' in users, books, and ratings with new IDs.\n",
        "\n",
        "\n"
      ]
    },
    {
      "cell_type": "code",
      "execution_count": null,
      "metadata": {
        "colab": {
          "base_uri": "https://localhost:8080/"
        },
        "id": "WVlwFIUUegPY",
        "outputId": "301c4cfd-d78d-4f26-f686-95bde3545b31"
      },
      "outputs": [
        {
          "name": "stdout",
          "output_type": "stream",
          "text": [
            "\n",
            "Number of ratings: 1149780\n"
          ]
        }
      ],
      "source": [
        "\n",
        "\n",
        "try:\n",
        "\n",
        "    # Read in ratings file\n",
        "    ratings = pd.read_csv('book_dataset/Ratings.csv', sep=';', usecols=[0, 1, 2],\n",
        "                          names=['user_id', 'book_id', 'rating'], header=0)\n",
        "\n",
        "    # Read in users file\n",
        "    users = pd.read_csv('book_dataset/Users.csv', sep=';', usecols=[0, 1],\n",
        "                        names=['user_id', 'age'], header=0)\n",
        "\n",
        "    # Read in books file\n",
        "    books = pd.read_csv('book_dataset/Books.csv', sep=';', usecols=[0,1,3],\n",
        "                        names=['book_id',  'title','year'], header=0)\n",
        "\n",
        "    # Print the number of ratings, books, and users\n",
        "    print(f\"\\nNumber of ratings: {ratings.shape[0]}\")\n",
        "\n",
        "    # Convert 'age' to integers, coerce errors to NaN\n",
        "    users['age'] = pd.to_numeric(users['age'], errors='coerce')\n",
        "    users.dropna(subset=['age'], inplace=True)\n",
        "\n",
        "    # Convert 'year' to integers, coerce errors to NaN\n",
        "    books['year'] = pd.to_numeric(books['year'], errors='coerce')\n",
        "\n",
        "\n",
        "    # Remove rows with NaN values\n",
        "    ratings.dropna(inplace=True)\n",
        "    users.dropna(inplace=True)\n",
        "    books.dropna(inplace=True)\n",
        "\n",
        "\n",
        "    # Filter Out Users and Books Not in Ratings DataFrame\n",
        "    # Keep only those users and books that have corresponding entries in the ratings data\n",
        "    users_in_ratings = ratings['user_id'].unique()\n",
        "    books_in_ratings = ratings['book_id'].unique()\n",
        "\n",
        "    users = users[users['user_id'].isin(users_in_ratings)]\n",
        "    books = books[books['book_id'].isin(books_in_ratings)]\n",
        "\n",
        "    # Remove Ratings with Missing User or Book IDs\n",
        "    ratings = ratings[ratings['user_id'].isin(users['user_id'])]\n",
        "    ratings = ratings[ratings['book_id'].isin(books['book_id'])]\n",
        "\n",
        "    users_in_ratings = ratings['user_id'].unique()\n",
        "    books_in_ratings = ratings['book_id'].unique()\n",
        "\n",
        "    users = users[users['user_id'].isin(users_in_ratings)]\n",
        "    books = books[books['book_id'].isin(books_in_ratings)]\n",
        "\n",
        "\n",
        "    # Create mappings for user_id and book_id\n",
        "    user_id_mapping = {old: new for new, old in enumerate(sorted(users['user_id'].unique()))}\n",
        "\n",
        "\n",
        "    # Determine the starting index for book_id mapping\n",
        "    last_user_id = max(user_id_mapping.values()) + 1\n",
        "\n",
        "    # Create book_id mapping starting from the last user_id + 1\n",
        "    book_id_mapping = {old: new for new, old in enumerate(sorted(books['book_id'].unique()), start=last_user_id)}\n",
        "\n",
        "    # Apply mappings to the dataframes\n",
        "    users['user_id'] = users['user_id'].map(user_id_mapping)\n",
        "    books['book_id'] = books['book_id'].map(book_id_mapping)\n",
        "    ratings['user_id'] = ratings['user_id'].map(user_id_mapping)\n",
        "    ratings['book_id'] = ratings['book_id'].map(book_id_mapping)\n",
        "\n",
        "except Exception as e:\n",
        "    print(f\"An error occurred: {e}\")\n",
        "    print(\"Have you uploaded the dataset files? : https://grouplens.org/datasets/book-crossing/\")\n"
      ]
    },
    {
      "cell_type": "code",
      "execution_count": null,
      "metadata": {
        "colab": {
          "base_uri": "https://localhost:8080/"
        },
        "id": "n9uCYcJxEjF2",
        "outputId": "fee51d63-32d1-4f14-b588-76359630badd"
      },
      "outputs": [
        {
          "name": "stdout",
          "output_type": "stream",
          "text": [
            "Users DataFrame:\n",
            "    user_id   age\n",
            "1         0  18.0\n",
            "9         1  26.0\n",
            "18        2  14.0\n",
            "19        3  19.0\n",
            "35        4  24.0\n",
            "\n",
            "Books DataFrame:\n",
            "   book_id                                              title  year\n",
            "0    70872                                Classical Mythology  2002\n",
            "1    50505                                       Clara Callan  2001\n",
            "2    57107                               Decision in Normandy  1991\n",
            "3   100770  Flu: The Story of the Great Influenza Pandemic...  1999\n",
            "5   115211                             The Kitchen God's Wife  1991\n",
            "\n",
            "Ratings DataFrame:\n",
            "      user_id  book_id  rating\n",
            "9561        0    70872       0\n",
            "9584        1   245073       0\n",
            "9600        2   102781       7\n",
            "9601        3   118773       0\n",
            "9612        4   167780       0\n",
            "\n",
            "Number of ratings: 710045\n",
            "Number of books: 222155\n",
            "Number of users: 50454\n",
            "Lowest User ID: 0\n",
            "Highest User ID: 50453\n",
            "Lowest Book ID: 50454\n",
            "Highest Book ID: 272607\n",
            "Average Rating: 2.7771775028343275\n",
            "Top 25% Rating Threshold: 7.0\n",
            "Sparsity of the dataset: 0.9999\n"
          ]
        }
      ],
      "source": [
        "\n",
        "# Print the first few rows for verification\n",
        "print(\"Users DataFrame:\")\n",
        "print(users.head())\n",
        "print(\"\\nBooks DataFrame:\")\n",
        "print(books.head())\n",
        "print(\"\\nRatings DataFrame:\")\n",
        "print(ratings.head())\n",
        "\n",
        "# Print the number of ratings, books, and users\n",
        "print(f\"\\nNumber of ratings: {ratings.shape[0]}\")\n",
        "print(f\"Number of books: {books.shape[0]}\")\n",
        "print(f\"Number of users: {users.shape[0]}\")\n",
        "\n",
        "\n",
        "# Find the lowest and highest user IDs\n",
        "lowest_user_id = min(user_id_mapping.values())\n",
        "highest_user_id = max(user_id_mapping.values())\n",
        "\n",
        "# Find the lowest and highest book IDs\n",
        "lowest_book_id = min(book_id_mapping.values())\n",
        "highest_book_id = max(book_id_mapping.values())\n",
        "\n",
        "\n",
        "# Print the results\n",
        "print(f\"Lowest User ID: {lowest_user_id}\")\n",
        "print(f\"Highest User ID: {highest_user_id}\")\n",
        "print(f\"Lowest Book ID: {lowest_book_id}\")\n",
        "print(f\"Highest Book ID: {highest_book_id}\")\n",
        "\n",
        "\n",
        "# Calculate the average rating\n",
        "average_rating = ratings['rating'].mean()\n",
        "\n",
        "# Calculate the 75th percentile (top 25%)\n",
        "top_25_percent_rating = ratings['rating'].quantile(0.75)\n",
        "\n",
        "\n",
        "\n",
        "print(\"Average Rating:\", average_rating)\n",
        "print(\"Top 25% Rating Threshold:\", top_25_percent_rating)\n",
        "\n",
        "\n",
        "num_users = ratings['user_id'].nunique()\n",
        "num_books = ratings['book_id'].nunique()\n",
        "num_ratings = len(ratings)\n",
        "\n",
        "# Calculate the sparsity\n",
        "sparsity = 1 - (num_ratings / (num_users * num_books))\n",
        "print(f\"Sparsity of the dataset: {sparsity:.4f}\")"
      ]
    },
    {
      "cell_type": "markdown",
      "metadata": {
        "id": "VPE-1rt3-FVT"
      },
      "source": [
        "# **RS1 – basic level: Personalised recommender system with conventional methods** ✅\n",
        "\n",
        "- SVD - Probablisitc Matrix Factorization Algorithm, Ruslan Salakhutdinov and Andriy Mnih. Probabilistic matrix factorization. 2008. URL: https://papers.nips.cc/paper/3208-probabilistic-matrix-factorization.pdf.\n",
        "\n",
        "- Implemented using the 'suprise' module, URL: https://surprise.readthedocs.io/en/stable/index.html\n",
        "---\n",
        "\n"
      ]
    },
    {
      "cell_type": "code",
      "execution_count": null,
      "metadata": {
        "id": "l61Gfdkq-rLe"
      },
      "outputs": [],
      "source": [
        "# Load the data into the suprise module\n",
        "reader = Reader(rating_scale=(1, 10))\n",
        "data = Dataset.load_from_df(ratings[[\"user_id\", \"book_id\", \"rating\"]], reader)"
      ]
    },
    {
      "cell_type": "code",
      "execution_count": null,
      "metadata": {
        "id": "SS0NjQhZ-2De"
      },
      "outputs": [],
      "source": [
        "\n",
        "# Create the SVD algorithm\n",
        "basic_algo = SVD()\n",
        "\n",
        "# Split the data into training and test sets (90% training, 10% testing)\n",
        "trainset, testset = train_test_split(data, test_size=0.1)\n",
        "\n",
        "# Train the algorithm on the trainset\n",
        "basic_algo.fit(trainset)\n",
        "\n",
        "# Store predictions for later metric calculations\n",
        "basic_predictions = basic_algo.test(testset)\n",
        "\n"
      ]
    },
    {
      "cell_type": "markdown",
      "metadata": {
        "id": "BcqCq1PzBvFe"
      },
      "source": [
        "\n",
        "\n",
        "\n",
        "\n",
        "# <b>RS2 – additional effort: Personalised recommender system with advanced method</b> ✅\n",
        "\n",
        "- GNN - GraphSAGE, Inductive Representation Learning on Large Graphs, Will Hamilton, Zhitao Ying, Jure Leskovec. URL: https://proceedings.neurips.cc/paper_files/paper/2017/file/5dd9db5e033da9c6fb5ba83c7a7ebea9-Paper.pdf\n",
        "- Implemented using the 'dgl' module, URL: https://docs.dgl.ai/\n",
        "\n",
        "\n"
      ]
    },
    {
      "cell_type": "markdown",
      "metadata": {
        "id": "hUHXCc4n6MOs"
      },
      "source": [
        "# **Advanced Data Preparation**  🛠️\n",
        "\n",
        "\n",
        "- Turn ratings data into a graph (COO format)\n",
        "  - a user and book only share an edge if there rating is >= the RATING_THRESHOLD\n",
        "- Load graph data into dgl module\n",
        "- Load implict data into graph (features)\n",
        "- This graph is used to train the GNN (and is bipartite)\n",
        "\n",
        "\n"
      ]
    },
    {
      "cell_type": "code",
      "execution_count": null,
      "metadata": {
        "colab": {
          "base_uri": "https://localhost:8080/"
        },
        "id": "Y7v2G7o6DwAP",
        "outputId": "52dc5739-78a0-44f3-fc4a-6bc3523275e8"
      },
      "outputs": [
        {
          "name": "stdout",
          "output_type": "stream",
          "text": [
            "Number of nodes in the graph: 272608\n"
          ]
        }
      ],
      "source": [
        "\n",
        "# The threshold of what decides a 'good' rating\n",
        "RATING_THRESHOLD = 7\n",
        "\n",
        "# Convert DataFrame columns to lists\n",
        "users_as_list = ratings['user_id'].tolist()\n",
        "items_as_list = ratings['book_id'].tolist()\n",
        "ratings_as_list = ratings['rating'].tolist()\n",
        "\n",
        "# Create edges for the graph\n",
        "edges = {'src': [], 'dst': []}\n",
        "for user, item, rating in zip(users_as_list, items_as_list, ratings_as_list):\n",
        "    if rating >= RATING_THRESHOLD:\n",
        "        edges['src'].append(user)\n",
        "        edges['dst'].append(item)\n",
        "\n",
        "# Count unique users and books\n",
        "unique_users = ratings['user_id'].nunique()\n",
        "\n",
        "unique_books = ratings['book_id'].nunique()\n",
        "\n",
        "# Calculate total number of nodes (assuming user IDs and book IDs are distinct)\n",
        "total_nodes = unique_users + unique_books\n",
        "\n",
        "# Create a bipartite graph\n",
        "graph = dgl.graph((edges['src'], edges['dst']), num_nodes=total_nodes)\n",
        "\n",
        "\n",
        "# Sort the users DataFrame by 'user_id'\n",
        "sorted_users = users.sort_values(by='user_id')\n",
        "\n",
        "# Sort the books DataFrame by 'book_id'\n",
        "sorted_books = books.sort_values(by='book_id')\n",
        "\n",
        "\n",
        "# Extract ages from the sorted users DataFrame\n",
        "sorted_ages = sorted_users['age'].tolist()\n",
        "sorted_ages = sorted_ages\n",
        "\n",
        "# Extract years from the sorted books DataFrame\n",
        "sorted_years = sorted_books['year'].tolist()\n",
        "features = sorted_ages + sorted_years\n",
        "features = torch.tensor(features[:-1]).unsqueeze(1)\n",
        "\n",
        "# Number of features per node\n",
        "number_of_features = 1\n",
        "\n",
        "# Assign the random features to your graph\n",
        "graph.ndata['feat'] = features\n",
        "\n",
        "print(\"Number of nodes in the graph:\", graph.number_of_nodes())\n"
      ]
    },
    {
      "cell_type": "markdown",
      "metadata": {
        "id": "kCvMkusYt_Gz"
      },
      "source": [
        "# <b> Model Code </b> ✅\n",
        "\n",
        "- Code that defines the model used to train the GNN and utility functions to construct the training & testing graphs.\n",
        "- Using GraphSAGE a framework for inductive representation learning on large graphs\n"
      ]
    },
    {
      "cell_type": "code",
      "execution_count": null,
      "metadata": {
        "id": "O4PbVDZKInBH"
      },
      "outputs": [],
      "source": [
        "\n",
        "class GraphSAGE(nn.Module):\n",
        "    def __init__(self, in_feats, hidden_feats, out_feats):\n",
        "        super(GraphSAGE, self).__init__()\n",
        "        # First GraphSAGE layer: transforms input features to hidden features\n",
        "        self.conv1 = SAGEConv(in_feats, hidden_feats, 'mean')\n",
        "        # Second GraphSAGE layer: transforms hidden features to output features\n",
        "        self.conv2 = SAGEConv(hidden_feats, out_feats, 'mean')\n",
        "\n",
        "    def forward(self, g, features):\n",
        "        # Apply the first layer and use ReLU for non-linearity\n",
        "        h = F.relu(self.conv1(g, features))\n",
        "        # Apply the second layer to the output of the first layer\n",
        "        h = self.conv2(g, h)\n",
        "        return h"
      ]
    },
    {
      "cell_type": "markdown",
      "metadata": {
        "id": "2rz9gZClbyon"
      },
      "source": [
        "This model uses a dot product predictor to score how appropriate a book is to a user\n"
      ]
    },
    {
      "cell_type": "code",
      "execution_count": null,
      "metadata": {
        "id": "rvOSSVe85Ecj"
      },
      "outputs": [],
      "source": [
        "class DotProductPredictor(nn.Module):\n",
        "    def forward(self, graph, h):\n",
        "        # Use the graph's local scope to avoid modifying the graph\n",
        "        with graph.local_scope():\n",
        "            # Assign node features for the graph\n",
        "            graph.ndata['h'] = h\n",
        "            # Apply a dot product on the node features to compute edge scores\n",
        "            graph.apply_edges(fn.u_dot_v('h', 'h', 'score'))\n",
        "            # Return the computed scores stored in edge data\n",
        "            return graph.edata['score']"
      ]
    },
    {
      "cell_type": "code",
      "execution_count": null,
      "metadata": {
        "id": "vW75Hb0bFfvm"
      },
      "outputs": [],
      "source": [
        "\n",
        "# Setting the user_id_threshold to the highest user ID - this is used to ensure that the negative graph formed is bipartite\n",
        "# Ie ids that are above the user_id_threshold are known to be books\n",
        "user_id_threshold = highest_user_id\n",
        "\n",
        "# Function to construct a negative graph used as a negative example for training\n",
        "def construct_negative_graph(graph, k):\n",
        "    src, dst = graph.edges()  # Get the source and destination nodes of the graph\n",
        "    neg_src = src.repeat_interleave(k)  # Repeat each source node k times for negative sampling\n",
        "\n",
        "    neg_dst_list = []  # List to store the negative destination nodes\n",
        "\n",
        "    # Loop over each source node to generate negative samples\n",
        "    for s in src:\n",
        "        if s < user_id_threshold:\n",
        "            # For source nodes below the threshold, choose negative destinations from higher IDs\n",
        "            neg_dst = torch.randint(user_id_threshold, graph.num_nodes(), (k,))\n",
        "        else:\n",
        "            # For source nodes above the threshold, choose negative destinations from lower IDs\n",
        "            neg_dst = torch.randint(0, user_id_threshold, (k,))\n",
        "        neg_dst_list.append(neg_dst)  # Append the negative destinations to the list\n",
        "\n",
        "    neg_dst = torch.cat(neg_dst_list)  # Concatenate all negative destination nodes\n",
        "\n",
        "    # Return a new graph with negative edges\n",
        "    return dgl.graph((neg_src, neg_dst), num_nodes=graph.num_nodes())\n",
        "\n"
      ]
    },
    {
      "cell_type": "code",
      "execution_count": null,
      "metadata": {
        "id": "AFG4oCn9Fjnf"
      },
      "outputs": [],
      "source": [
        "class Model(nn.Module):\n",
        "    def __init__(self, in_features, hidden_features, out_features):\n",
        "        super().__init__()\n",
        "        # Initialize the GraphSAGE layer with specified features\n",
        "        self.sage = GraphSAGE(in_features, hidden_features, out_features)\n",
        "        # Initialize the dot product predictor\n",
        "        self.pred = DotProductPredictor()\n",
        "\n",
        "    def forward(self, g, neg_g, x):\n",
        "        # Apply GraphSAGE on the graph 'g' with features 'x'\n",
        "        h = self.sage(g, x)\n",
        "        # Return predictions for both the graph 'g' and the negative graph 'neg_g'\n",
        "        return self.pred(g, h), self.pred(neg_g, h)"
      ]
    },
    {
      "cell_type": "code",
      "execution_count": null,
      "metadata": {
        "id": "uCox_sO5IqR9"
      },
      "outputs": [],
      "source": [
        "# loss function\n",
        "def compute_loss(pos_score, neg_score):\n",
        "    # Margin loss\n",
        "    n_edges = pos_score.shape[0]\n",
        "    return (1 - pos_score + neg_score.view(n_edges, -1)).clamp(min=0).mean()\n"
      ]
    },
    {
      "cell_type": "code",
      "execution_count": null,
      "metadata": {
        "id": "-smXRk_EPK1S"
      },
      "outputs": [],
      "source": [
        "\n",
        "u, v = graph.edges()\n",
        "\n",
        "# Define edge IDs as a range from 0 to the number of edges - 1\n",
        "eids = np.arange(graph.num_edges())\n",
        "\n",
        "# Calculate the size of the test set as 10% of total edges - same split and used in basic recommender system\n",
        "test_size = int(len(eids) * 0.1)\n",
        "\n",
        "# Split edges for training and testing without shuffling\n",
        "test_pos_u, test_pos_v = u[:test_size], v[:test_size]\n",
        "train_pos_u, train_pos_v = u[test_size:], v[test_size:]"
      ]
    },
    {
      "cell_type": "code",
      "execution_count": null,
      "metadata": {
        "id": "mWPixuquHY9C"
      },
      "outputs": [],
      "source": [
        "# Create an adjacency matrix\n",
        "adj = sp.coo_matrix((np.ones(len(u)), (u.numpy(), v.numpy())), shape=(graph.num_nodes(), graph.num_nodes()))\n",
        "adj_dense = adj.todense()\n",
        "\n",
        "# Create a matrix for negative samples\n",
        "adj_neg = np.ones(adj_dense.shape) - adj_dense - np.eye(graph.num_nodes())\n",
        "\n",
        "# Find all negative edges\n",
        "neg_u, neg_v = np.where(adj_neg != 0)\n",
        "\n",
        "# Sample negative edges\n",
        "neg_eids = np.random.choice(len(neg_u), graph.num_edges())\n",
        "test_neg_u, test_neg_v = neg_u[neg_eids[:test_size]], neg_v[neg_eids[:test_size]]\n",
        "train_neg_u, train_neg_v = neg_u[neg_eids[test_size:]], neg_v[neg_eids[test_size:]]\n",
        "\n",
        "\n",
        "# Remove edges for training graph and test graph\n",
        "train_g = dgl.remove_edges(graph, eids[:test_size])\n",
        "\n",
        "test_g = dgl.remove_edges(graph, eids[test_size:])\n"
      ]
    },
    {
      "cell_type": "markdown",
      "metadata": {
        "id": "w0d7t7HXdjeE"
      },
      "source": [
        "<b>Training Loop 🚂</b>\n"
      ]
    },
    {
      "cell_type": "code",
      "execution_count": null,
      "metadata": {
        "colab": {
          "base_uri": "https://localhost:8080/"
        },
        "id": "Ju2g4UDQK0VS",
        "outputId": "848c60e9-ab25-4497-cfde-0039d19328c1"
      },
      "outputs": [
        {
          "name": "stdout",
          "output_type": "stream",
          "text": [
            "LOSS:  865.7496948242188\n",
            "LOSS:  608.7073364257812\n",
            "LOSS:  426.3106994628906\n",
            "LOSS:  290.6559143066406\n",
            "LOSS:  192.06539916992188\n",
            "LOSS:  122.26351928710938\n",
            "LOSS:  74.96351623535156\n",
            "LOSS:  48.104095458984375\n",
            "LOSS:  26.598684310913086\n",
            "LOSS:  20.34558868408203\n"
          ]
        }
      ],
      "source": [
        "\n",
        "# Code for training\n",
        "# Details discussed in Video\n",
        "node_features = train_g.ndata['feat']  # Extract node features from the training graph\n",
        "n_features = node_features.shape[1]    # Number of features per node\n",
        "k = 5                                  # Number of negative samples per positive sample\n",
        "model = Model(n_features, 512, 64)     # Initialize the model with specified feature dimensions\n",
        "\n",
        "opt = torch.optim.Adam(model.parameters())  # Initialize the optimizer\n",
        "\n",
        "# Training loop for 10 epochs\n",
        "for epoch in range(10):\n",
        "    # Construct a negative graph for each epoch\n",
        "    negative_graph = construct_negative_graph(train_g, k)\n",
        "    # Get positive and negative scores from the model\n",
        "    pos_score, neg_score = model(train_g, negative_graph, node_features)\n",
        "    # Compute the loss based on these scores\n",
        "    loss = compute_loss(pos_score, neg_score)\n",
        "    # Zero the gradients before backpropagation\n",
        "    opt.zero_grad()\n",
        "    # Backpropagate the error\n",
        "    loss.backward()\n",
        "    # Update model parameters\n",
        "    opt.step()\n",
        "    # Print the loss for this epoch\n",
        "    print('LOSS: ', loss.item())\n"
      ]
    },
    {
      "cell_type": "markdown",
      "metadata": {
        "id": "wl29IWI7Tfzq"
      },
      "source": [
        "# <b> Prediction Code</b> 📖\n",
        "\n",
        "- Defines the functions to predict 5 book reccomendations for a user\n",
        "- Contains code used in demo - allowing user to input user_id and get recommendations"
      ]
    },
    {
      "cell_type": "code",
      "execution_count": 3,
      "metadata": {
        "id": "YOwPMX-0TkvD"
      },
      "outputs": [],
      "source": [
        "# functions to make predictions - used in UI\n",
        "\n",
        "no_recommendations = 5\n",
        "\n",
        "def RS1(user_id):\n",
        "    # Check if the user exists\n",
        "    user_exists = users['user_id'].isin([user_id]).any()\n",
        "    if not user_exists:\n",
        "        print(\"user does not exist\")\n",
        "        return None\n",
        "\n",
        "    # Get unique book IDs\n",
        "    book_ids = books['book_id'].unique()\n",
        "    predictions = []\n",
        "\n",
        "    # Generate predictions for each book\n",
        "    for book_id in book_ids:\n",
        "        prediction = basic_algo.predict(str(user_id), str(book_id))\n",
        "        predictions.append((book_id, prediction.est))\n",
        "\n",
        "    # Sort by estimated rating and select top N\n",
        "    predictions.sort(key=lambda x: x[1], reverse=True)\n",
        "    top_predictions = predictions[:no_recommendations]\n",
        "\n",
        "    # Get the titles of the top N books\n",
        "    result = []\n",
        "    for book_id, _ in top_predictions:\n",
        "        book_title = books.loc[books['book_id'] == book_id, 'title'].iloc[0]\n",
        "        result.append((book_title,book_id))\n",
        "    return result"
      ]
    },
    {
      "cell_type": "code",
      "execution_count": 4,
      "metadata": {
        "id": "GYhzTt_uTrpA"
      },
      "outputs": [],
      "source": [
        "def RS2(user_id):\n",
        "\n",
        "    # Check if the user exists\n",
        "    user_exists = users['user_id'].isin([user_id]).any()\n",
        "    if not user_exists:\n",
        "        return None\n",
        "\n",
        "    # Get unique book IDs\n",
        "    book_ids = books['book_id'].unique()\n",
        "    predictions = []\n",
        "\n",
        "    user_embedding = node_embeddings[user_id]\n",
        "\n",
        "    # Generate predictions for each book\n",
        "    for book_id in book_ids:\n",
        "        book_embedding = node_embeddings[book_id]\n",
        "        predicted_rating = dot_product_predictor(user_embedding, book_embedding)\n",
        "        predictions.append((book_id, predicted_rating))\n",
        "\n",
        "    # Sort by estimated rating and select top N\n",
        "    predictions.sort(key=lambda x: x[1], reverse=True)\n",
        "    top_predictions = predictions[:no_recommendations]\n",
        "\n",
        "    # Get the titles of the top N books\n",
        "    result = []\n",
        "    for book_id, _ in top_predictions:\n",
        "        book_title = books.loc[books['book_id'] == book_id, 'title'].iloc[0]\n",
        "        result.append((book_title,book_id))\n",
        "\n",
        "    return result"
      ]
    },
    {
      "cell_type": "markdown",
      "metadata": {
        "id": "LRl_ZXjaeqBp"
      },
      "source": [
        "# <b> Evaluation Code</b> 👌\n",
        "\n",
        "- Define the test dataset and utility functions so that the evaluation metrics can be calculated\n",
        "- The first evaluation metric (chosen for the RS1 is <b>RMSE</b>)\n",
        "- The second evaluation metric (chosen for the RS2 is <b>Novelty</b>)"
      ]
    },
    {
      "cell_type": "code",
      "execution_count": null,
      "metadata": {
        "id": "0T6OTYNgIIOE"
      },
      "outputs": [],
      "source": [
        "# Generate node embeddings for the test graph\n",
        "node_embeddings = model.sage(test_g, node_features)\n",
        "\n",
        "model.eval()\n",
        "\n",
        "# Combine all node IDs from positive and negative test edges\n",
        "test_node_ids = np.concatenate([test_pos_u, test_pos_v, test_neg_u, test_neg_v])\n",
        "\n",
        "# Extract unique node IDs from the combined test node IDs to remove duplicates\n",
        "unique_test_node_ids = np.unique(test_node_ids)\n"
      ]
    },
    {
      "cell_type": "markdown",
      "metadata": {
        "id": "1ofvVxTIgdps"
      },
      "source": [
        "<b> Utility functions used for evaluation code </b>\n"
      ]
    },
    {
      "cell_type": "code",
      "execution_count": null,
      "metadata": {
        "id": "VXo8IXwGOUWB"
      },
      "outputs": [],
      "source": [
        "def normalize_and_scale_ratings(rating, min_rating, max_rating):\n",
        "    # Normalize the rating to a 0-1 scale\n",
        "    normalized_rating = (rating - min_rating) / (max_rating - min_rating)\n",
        "    # Scale to a 1-10 range\n",
        "    scaled_rating = normalized_rating * 9 + 1\n",
        "    return scaled_rating"
      ]
    },
    {
      "cell_type": "code",
      "execution_count": null,
      "metadata": {
        "id": "UIJxioYygypc"
      },
      "outputs": [],
      "source": [
        "\n",
        "def dot_product_predictor(embedding1, embedding2):\n",
        "    return torch.dot(embedding1, embedding2)\n"
      ]
    },
    {
      "cell_type": "code",
      "execution_count": null,
      "metadata": {
        "id": "_6BrdLcDTGKz"
      },
      "outputs": [],
      "source": [
        "# Initialize lists for storing user IDs, book IDs, and predicted ratings\n",
        "user_ids = []\n",
        "book_ids = []\n",
        "predicted_ratings = []\n",
        "\n",
        "# Loop through each unique node ID in the test set\n",
        "for node_id in unique_test_node_ids:\n",
        "    # If the node ID is less than or equal to the highest user ID, it's a user ID\n",
        "    if node_id <= highest_user_id:\n",
        "        user_ids.append(node_id)\n",
        "    else:\n",
        "        # Otherwise, it's a book ID\n",
        "        book_ids.append(node_id)\n",
        "\n",
        "# Filter the 'ratings' DataFrame to include only rows with user IDs and book IDs from the test set\n",
        "test_ratings = ratings[(ratings['user_id'].isin(user_ids)) & (ratings['book_id'].isin(book_ids))]\n",
        "\n",
        "# Construct the test dataset from the filtered ratings DataFrame\n",
        "# Each element in the dataset is a tuple (user_id, book_id, rating)\n",
        "test_dataset = [(row['user_id'], row['book_id'], row['rating']) for _, row in test_ratings.iterrows()]\n",
        "unique_user_ids = {user_id for user_id, _, _ in test_dataset}"
      ]
    },
    {
      "cell_type": "markdown",
      "metadata": {
        "id": "VgYYT3-nhNBO"
      },
      "source": [
        "# RMSE Evaluation Metric\n",
        "\n",
        "The RMSE (Root Mean Square Error) is calculated as follows:\n",
        "\n",
        "$$\n",
        "\\text{RMSE} = \\sqrt{\\frac{1}{|T|} \\sum_{(u,i) \\in T} (\\hat{r}_{ui} - r_{ui})^2}\n",
        "$$\n",
        "\n"
      ]
    },
    {
      "cell_type": "code",
      "execution_count": null,
      "metadata": {
        "id": "MS0EqLIk6e40"
      },
      "outputs": [],
      "source": [
        "# Code to calculate the RMSE metric for the advanced method\n",
        "def calculate_rmse_advanced():\n",
        "    squared_errors = []\n",
        "    # Calculate predicted ratings to find min and max\n",
        "    for user_id, book_id, _ in test_dataset:\n",
        "        user_embedding = node_embeddings[user_id]\n",
        "        book_embedding = node_embeddings[book_id]\n",
        "        predicted_rating = dot_product_predictor(user_embedding, book_embedding)\n",
        "        predicted_ratings.append(predicted_rating)\n",
        "\n",
        "    # Determine the scaling parameters\n",
        "    min_predicted_rating = min(predicted_ratings)\n",
        "    max_predicted_rating = max(predicted_ratings)\n",
        "\n",
        "    # Calculate RMSE\n",
        "    for user_id, book_id, actual_rating in test_dataset:\n",
        "        user_embedding = node_embeddings[user_id]\n",
        "        book_embedding = node_embeddings[book_id]\n",
        "\n",
        "        predicted_rating = dot_product_predictor(user_embedding, book_embedding)\n",
        "        scaled_rating = normalize_and_scale_ratings(predicted_rating, min_predicted_rating, max_predicted_rating)\n",
        "\n",
        "        # Calculate the squared error\n",
        "        squared_error = (scaled_rating - actual_rating) ** 2\n",
        "        squared_errors.append(squared_error)\n",
        "\n",
        "    # Compute mean of squared errors\n",
        "    mse = sum(squared_errors) / len(squared_errors)\n",
        "\n",
        "    # Calculate square root of MSE to get RMSE\n",
        "    rmse = mse ** 0.5\n",
        "    return rmse\n",
        "\n",
        "# advanced RMSE calculation\n",
        "advanced_rmse = calculate_rmse_advanced().item()\n",
        "advanced_rmse = round(advanced_rmse, 3)\n",
        "\n"
      ]
    },
    {
      "cell_type": "code",
      "execution_count": null,
      "metadata": {
        "colab": {
          "base_uri": "https://localhost:8080/"
        },
        "id": "HLQ1leX1F02K",
        "outputId": "7bcbd238-a20f-4d54-95b4-d402a6af4d94"
      },
      "outputs": [
        {
          "name": "stdout",
          "output_type": "stream",
          "text": [
            "RMSE: 3.4981\n"
          ]
        }
      ],
      "source": [
        "# Code to calculate the RMSE metric for the basic method (we use the suprise modules built in method)\n",
        "basic_rmse = accuracy.rmse(basic_predictions, verbose=True)\n",
        "basic_rmse = round(basic_rmse, 3)\n"
      ]
    },
    {
      "cell_type": "code",
      "execution_count": null,
      "metadata": {
        "colab": {
          "base_uri": "https://localhost:8080/"
        },
        "id": "2U7ZxfOWMgE2",
        "outputId": "607f8b5c-52ae-492f-fda7-54fc4f407bd5"
      },
      "outputs": [
        {
          "name": "stdout",
          "output_type": "stream",
          "text": [
            "BASIC RMSE (1st Evaluation Metric):  3.498\n",
            "ADVANCED RMSE (1st Evaluation Metric):  3.162\n",
            "Difference between BASIC and ADVANCED RMSE:  0.336\n"
          ]
        }
      ],
      "source": [
        "# print RMSE evaluation\n",
        "print(\"BASIC RMSE (1st Evaluation Metric): \", basic_rmse)\n",
        "print(\"ADVANCED RMSE (1st Evaluation Metric): \", advanced_rmse)\n",
        "\n",
        "\n",
        "# Calculate the difference\n",
        "rmse_difference = basic_rmse - advanced_rmse\n",
        "rmse_difference = round(rmse_difference,3)\n",
        "# Print the RMSE evaluation difference\n",
        "print(\"Difference between BASIC and ADVANCED RMSE: \", rmse_difference)\n",
        "\n",
        "\n"
      ]
    },
    {
      "cell_type": "code",
      "execution_count": null,
      "metadata": {
        "colab": {
          "base_uri": "https://localhost:8080/"
        },
        "id": "nmh92LbF5YC3",
        "outputId": "ae05caef-fcc8-49b2-933f-4e5d4c28e6ea"
      },
      "outputs": [
        {
          "data": {
            "image/png": "[encoded data removed]",
            "text/plain": [
              "<Figure size 640x480 with 1 Axes>"
            ]
          },
          "metadata": {},
          "output_type": "display_data"
        }
      ],
      "source": [
        "# Creating a bar chart\n",
        "labels = ['RS1', 'RS2']\n",
        "values = [basic_rmse, advanced_rmse]\n",
        "\n",
        "plt.bar(labels, values, color=['blue', 'green'])\n",
        "plt.ylabel('RMSE Value')\n",
        "plt.title('Comparison of BASIC and ADVANCED Recommender Systems')\n",
        "\n",
        "# Displaying the values on the bars\n",
        "for i, v in enumerate(values):\n",
        "    plt.text(i, v + 0.1, str(v), ha='center', va='bottom')\n",
        "\n",
        "# Show the plot\n",
        "plt.show()\n"
      ]
    },
    {
      "cell_type": "markdown",
      "metadata": {
        "id": "wtzP3-d4lSCX"
      },
      "source": [
        "# Novelty Evaluation Metric\n",
        "-\n",
        "$$\n",
        "\\text{Novelty}(R) = \\frac{1}{|R|} \\sum_{i \\in R} -\\log_2 p(i)\n",
        "$$"
      ]
    },
    {
      "cell_type": "code",
      "execution_count": null,
      "metadata": {
        "id": "x1ojq8sRdf2Y"
      },
      "outputs": [],
      "source": [
        "def calculate_novelty_basic(book_popularity, total_users):\n",
        "    novelty_scores = []\n",
        "    # Extract unique user IDs\n",
        "    count = 0\n",
        "    no = len(unique_user_ids)\n",
        "    for user_id in unique_user_ids:\n",
        "        count += 1\n",
        "        # Get a list of 5 predictions\n",
        "        predictions = RS1(user_id)\n",
        "\n",
        "        # Calculate Novelty Score for each prediction\n",
        "        user_novelty_scores = []\n",
        "        for prediction in predictions:\n",
        "            book_id = prediction[1]\n",
        "            # Proportion of users who have rated/viewed the item\n",
        "            p_i = book_popularity.get(book_id, 0) / total_users\n",
        "            # Avoiding log of 0 by checking if p_i is greater than 0\n",
        "            if p_i > 0:\n",
        "                novelty_score = -math.log2(p_i)\n",
        "            else:\n",
        "                novelty_score = 0  # Assign a default value if p_i is 0\n",
        "            user_novelty_scores.append(novelty_score)\n",
        "\n",
        "        # Calculate the sum of the user's novelty scores and divide by the number of predictions\n",
        "        if user_novelty_scores:\n",
        "            novelty_scores.append(sum(user_novelty_scores) / len(user_novelty_scores))\n",
        "\n",
        "    # Calculate the average of all novelty scores\n",
        "    if novelty_scores:\n",
        "        average_novelty = sum(novelty_scores) / len(novelty_scores)\n",
        "    else:\n",
        "        average_novelty = 0  # Handle case with no novelty scores\n",
        "\n",
        "    return average_novelty"
      ]
    },
    {
      "cell_type": "code",
      "execution_count": null,
      "metadata": {
        "id": "O95vjJBRmewj"
      },
      "outputs": [],
      "source": [
        "def calculate_novelty_advanced(book_popularity, total_users):\n",
        "    novelty_scores = []\n",
        "    # Extract unique user IDs\n",
        "    count = 0\n",
        "    no = len(unique_user_ids)\n",
        "    for user_id in unique_user_ids:\n",
        "        count += 1\n",
        "        # Get a list of 5 predictions\n",
        "        predictions = RS2(user_id)\n",
        "\n",
        "        # Calculate Novelty Score for each prediction\n",
        "        user_novelty_scores = []\n",
        "        for prediction in predictions:\n",
        "            book_id = prediction[1]\n",
        "            # Proportion of users who have rated/viewed the item\n",
        "            p_i = book_popularity.get(book_id, 0) / total_users\n",
        "            # Avoiding log of 0 by checking if p_i is greater than 0\n",
        "            if p_i > 0:\n",
        "                novelty_score = -math.log2(p_i)\n",
        "            else:\n",
        "                novelty_score = 0  # Assign a default value if p_i is 0\n",
        "            user_novelty_scores.append(novelty_score)\n",
        "\n",
        "        # Calculate the sum of the user's novelty scores and divide by the number of predictions\n",
        "        if user_novelty_scores:\n",
        "            novelty_scores.append(sum(user_novelty_scores) / len(user_novelty_scores))\n",
        "\n",
        "    # Calculate the average of all novelty scores\n",
        "    if novelty_scores:\n",
        "        average_novelty = sum(novelty_scores) / len(novelty_scores)\n",
        "    else:\n",
        "        average_novelty = 0  # Handle case with no novelty scores\n",
        "\n",
        "    return average_novelty"
      ]
    },
    {
      "cell_type": "code",
      "execution_count": null,
      "metadata": {
        "colab": {
          "base_uri": "https://localhost:8080/"
        },
        "id": "MPUqRTfRd9IV",
        "outputId": "cb04e70c-9c62-44d4-f661-a89841bcb0d1"
      },
      "outputs": [
        {
          "name": "stdout",
          "output_type": "stream",
          "text": [
            "BASIC Novelty (2cnd Evaluation Metric):  13.51\n",
            "ADVANCED Novelty (2cnd Evaluation Metric):  14.742\n",
            "Difference between BASIC and ADVANCED Novelty:  1.232\n"
          ]
        }
      ],
      "source": [
        "# Form test set dataframe\n",
        "test_set_df = pd.DataFrame(ratings, columns=['user_id', 'book_id', 'rating'])\n",
        "\n",
        "# Calculate the total number of users\n",
        "total_users = test_set_df['user_id'].nunique()\n",
        "book_popularity = test_set_df['book_id'].value_counts().to_dict()\n",
        "\n",
        "basic_novelty = calculate_novelty_basic(book_popularity, total_users)\n",
        "advanced_novelty = calculate_novelty_advanced(book_popularity, total_users)\n",
        "\n",
        "basic_novelty = round(basic_novelty,3)\n",
        "advanced_novelty = round(advanced_novelty,3)\n",
        "\n",
        "\n",
        "# print Novelty  evaluation\n",
        "print(\"BASIC Novelty (2cnd Evaluation Metric): \", basic_novelty)\n",
        "print(\"ADVANCED Novelty (2cnd Evaluation Metric): \", advanced_novelty)\n",
        "\n",
        "# Calculate the difference\n",
        "novelty_difference = round(abs(basic_novelty - advanced_novelty),3)\n",
        "\n",
        "# Print the Novelty evaluation difference\n",
        "print(\"Difference between BASIC and ADVANCED Novelty: \", novelty_difference)\n"
      ]
    },
    {
      "cell_type": "code",
      "execution_count": null,
      "metadata": {
        "colab": {
          "base_uri": "https://localhost:8080/",
          "height": 452
        },
        "id": "BMuWOW5dtXkv",
        "outputId": "2e32f035-34de-4b92-85dd-ffa2b0b14d12"
      },
      "outputs": [
        {
          "data": {
            "image/png": "[encoded data removed]",
            "text/plain": [
              "<Figure size 640x480 with 1 Axes>"
            ]
          },
          "metadata": {},
          "output_type": "display_data"
        }
      ],
      "source": [
        "# Creating a bar chart\n",
        "labels = ['RS1', 'RS2']\n",
        "values = [basic_novelty, advanced_novelty]\n",
        "\n",
        "plt.bar(labels, values, color=['red', 'yellow'])\n",
        "plt.ylabel('Novelty Score')\n",
        "plt.title('Comparison of BASIC and ADVANCED Recommender Systems')\n",
        "\n",
        "# Displaying the values on the bars\n",
        "for i, v in enumerate(values):\n",
        "    plt.text(i, v + 0.1, str(v), ha='center', va='bottom')\n",
        "\n",
        "# Show the plot\n",
        "plt.show()"
      ]
    },
    {
      "cell_type": "markdown",
      "metadata": {
        "id": "lTQJB7Hs8y_H"
      },
      "source": [
        "# <b>Demo Code</b> 🧑‍💻️\n",
        "\n",
        "- Contains code used in demo - allowing user to input user_id and get recommendations\n"
      ]
    },
    {
      "cell_type": "code",
      "execution_count": null,
      "metadata": {
        "id": "8vraWMoi9m4c"
      },
      "outputs": [],
      "source": [
        "\n",
        "predictions = []  # Initialize an empty list to store predictions\n",
        "\n",
        "# Prompt the user to select a recommendation system (RS1 or RS2)\n",
        "method = int(input(\"Enter '1' To use the RS1 or '2' to use RS2 \"))\n",
        "\n",
        "# Check if the entered method is not 1 or 2\n",
        "if method != 1 and method != 2:\n",
        "    # Print an error message and continue the loop for correct input\n",
        "    print(\"You need to choose RS1 '1' or RS2 '2'\")\n",
        "\n",
        "\n",
        "# Prompt the user to enter a user ID for which predictions are to be made\n",
        "user_id = int(input(f\"Enter a user id to make predictions for \"))\n",
        "\n",
        "# Check which recommendation system to use based on the user's choice\n",
        "if method == 1:\n",
        "    predictions = RS1(user_id)  # Get predictions from RS1\n",
        "else:\n",
        "    predictions = RS2(user_id)  # Get predictions from RS2\n",
        "\n",
        "if predictions != None or len(predictions) == 0:\n",
        "  # Print each predicted title with its index\n",
        "  for i, title in enumerate(predictions):\n",
        "      print(\" \")\n",
        "\n",
        "      print(f'{i+1}. {title[0]}')\n"
      ]
    },
    {
      "cell_type": "markdown",
      "metadata": {
        "id": "oGnu9zT4_pI5"
      },
      "source": [
        "# End Of Code\n",
        "All references in video"
      ]
    }
  ],
  "metadata": {
    "accelerator": "GPU",
    "colab": {
      "collapsed_sections": [
        "vCMigLURkf4f",
        "vM7nj3fyhKPt",
        "VPE-1rt3-FVT",
        "hUHXCc4n6MOs",
        "wl29IWI7Tfzq"
      ],
      "machine_shape": "hm",
      "provenance": [],
      "toc_visible": true
    },
    "kernelspec": {
      "display_name": "Python 3",
      "name": "python3"
    },
    "language_info": {
      "name": "python"
    }
  },
  "nbformat": 4,
  "nbformat_minor": 0
}
